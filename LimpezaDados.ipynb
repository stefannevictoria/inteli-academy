{
  "nbformat": 4,
  "nbformat_minor": 0,
  "metadata": {
    "colab": {
      "provenance": [],
      "authorship_tag": "ABX9TyNV7h0oZdInFlskJSDyW9us",
      "include_colab_link": true
    },
    "kernelspec": {
      "name": "python3",
      "display_name": "Python 3"
    },
    "language_info": {
      "name": "python"
    }
  },
  "cells": [
    {
      "cell_type": "markdown",
      "metadata": {
        "id": "view-in-github",
        "colab_type": "text"
      },
      "source": [
        "<a href=\"https://colab.research.google.com/github/stefannevictoria/inteli-academy/blob/main/LimpezaDados.ipynb\" target=\"_parent\"><img src=\"https://colab.research.google.com/assets/colab-badge.svg\" alt=\"Open In Colab\"/></a>"
      ]
    },
    {
      "cell_type": "markdown",
      "source": [
        "# Exercícios de Limpeza de Dados com Pandas"
      ],
      "metadata": {
        "id": "1oY4dM226lgc"
      }
    },
    {
      "cell_type": "markdown",
      "source": [
        "### 1. Carregue o dataFrame e execute a função info para visualizar se existem dados nulos."
      ],
      "metadata": {
        "id": "x_0fCcX36rNk"
      }
    },
    {
      "cell_type": "code",
      "execution_count": 4,
      "metadata": {
        "id": "ix4-Ey5FxicJ"
      },
      "outputs": [],
      "source": [
        "import pandas as pd\n",
        "df = pd.read_csv('dados.csv')"
      ]
    },
    {
      "cell_type": "code",
      "source": [
        "df.info()"
      ],
      "metadata": {
        "colab": {
          "base_uri": "https://localhost:8080/"
        },
        "id": "umYM2_ZA7DGS",
        "outputId": "0ad9139e-0cc3-4637-becd-51a84e3aea2a"
      },
      "execution_count": 5,
      "outputs": [
        {
          "output_type": "stream",
          "name": "stdout",
          "text": [
            "<class 'pandas.core.frame.DataFrame'>\n",
            "RangeIndex: 10000 entries, 0 to 9999\n",
            "Data columns (total 8 columns):\n",
            " #   Column            Non-Null Count  Dtype \n",
            "---  ------            --------------  ----- \n",
            " 0   Transaction ID    10000 non-null  object\n",
            " 1   Item              9667 non-null   object\n",
            " 2   Quantity          9862 non-null   object\n",
            " 3   Price Per Unit    9821 non-null   object\n",
            " 4   Total Spent       9827 non-null   object\n",
            " 5   Payment Method    7421 non-null   object\n",
            " 6   Location          6735 non-null   object\n",
            " 7   Transaction Date  9841 non-null   object\n",
            "dtypes: object(8)\n",
            "memory usage: 625.1+ KB\n"
          ]
        }
      ]
    },
    {
      "cell_type": "markdown",
      "source": [
        "### 2. Caso haja linhas duplicadas (idênticas) mantenha apenas uma delas."
      ],
      "metadata": {
        "id": "wtqFvMPV7Yqs"
      }
    },
    {
      "cell_type": "code",
      "source": [
        "duplicate_rows = df.duplicated()\n",
        "print(duplicate_rows)"
      ],
      "metadata": {
        "colab": {
          "base_uri": "https://localhost:8080/"
        },
        "id": "45h5oJgo8mjC",
        "outputId": "44894cc1-bbb3-425e-8541-f7219e0e0c28"
      },
      "execution_count": 6,
      "outputs": [
        {
          "output_type": "stream",
          "name": "stdout",
          "text": [
            "0       False\n",
            "1       False\n",
            "2       False\n",
            "3       False\n",
            "4       False\n",
            "        ...  \n",
            "9995    False\n",
            "9996    False\n",
            "9997    False\n",
            "9998    False\n",
            "9999    False\n",
            "Length: 10000, dtype: bool\n"
          ]
        }
      ]
    },
    {
      "cell_type": "markdown",
      "source": [
        "Como foi mostrado que não há linhas duplicadas por meio da função duplicated(), não houve necessidade de excluir nenhuma linha."
      ],
      "metadata": {
        "id": "TCLbWQz588nE"
      }
    },
    {
      "cell_type": "markdown",
      "source": [
        "### 3. Converta as datas (object) para datetime"
      ],
      "metadata": {
        "id": "M3oY3biY-D_E"
      }
    },
    {
      "cell_type": "code",
      "source": [
        "df['Transaction Date'] = pd.to_datetime(df['Transaction Date'], errors='coerce')"
      ],
      "metadata": {
        "id": "bpu6nONc8ard"
      },
      "execution_count": 7,
      "outputs": []
    },
    {
      "cell_type": "code",
      "source": [
        "print(df['Transaction Date'].isna().sum())"
      ],
      "metadata": {
        "colab": {
          "base_uri": "https://localhost:8080/"
        },
        "id": "amkeODjkCcv5",
        "outputId": "747cc6a5-8742-415d-dd3d-d3f0c73f5b08"
      },
      "execution_count": 8,
      "outputs": [
        {
          "output_type": "stream",
          "name": "stdout",
          "text": [
            "460\n"
          ]
        }
      ]
    },
    {
      "cell_type": "markdown",
      "source": [
        "### 4. Execute alguns gráficos (podendo ser qualquer um, mas indico boxplots ou scatterplots) para visualizar se existem outliers nas variáveis numéricas"
      ],
      "metadata": {
        "id": "5UB3CzM7Cjjw"
      }
    },
    {
      "cell_type": "code",
      "source": [
        "df.plot.box(y='Total Spent', color='blue')"
      ],
      "metadata": {
        "colab": {
          "base_uri": "https://localhost:8080/",
          "height": 447
        },
        "id": "la2DYEajCm2f",
        "outputId": "f56db547-3a6c-4476-8d15-c889014ee39d"
      },
      "execution_count": 28,
      "outputs": [
        {
          "output_type": "execute_result",
          "data": {
            "text/plain": [
              "<Axes: >"
            ]
          },
          "metadata": {},
          "execution_count": 28
        },
        {
          "output_type": "display_data",
          "data": {
            "text/plain": [
              "<Figure size 640x480 with 1 Axes>"
            ],
            "image/png": "[encoded data removed]"
          },
          "metadata": {}
        }
      ]
    },
    {
      "cell_type": "code",
      "source": [
        "df.plot.box(y='Quantity', color='blue')"
      ],
      "metadata": {
        "colab": {
          "base_uri": "https://localhost:8080/",
          "height": 447
        },
        "id": "Dxdkb55KtE0U",
        "outputId": "a7dedff2-19cd-47a6-a9ad-8717954d3e8c"
      },
      "execution_count": 27,
      "outputs": [
        {
          "output_type": "execute_result",
          "data": {
            "text/plain": [
              "<Axes: >"
            ]
          },
          "metadata": {},
          "execution_count": 27
        },
        {
          "output_type": "display_data",
          "data": {
            "text/plain": [
              "<Figure size 640x480 with 1 Axes>"
            ],
            "image/png": "[encoded data removed]"
          },
          "metadata": {}
        }
      ]
    },
    {
      "cell_type": "code",
      "source": [
        "df.plot.box(y='Price Per Unit', color='blue')"
      ],
      "metadata": {
        "colab": {
          "base_uri": "https://localhost:8080/",
          "height": 447
        },
        "id": "F8lkjNG0t31w",
        "outputId": "61d5059b-630f-48c5-c74c-1eca38a8a9a7"
      },
      "execution_count": 26,
      "outputs": [
        {
          "output_type": "execute_result",
          "data": {
            "text/plain": [
              "<Axes: >"
            ]
          },
          "metadata": {},
          "execution_count": 26
        },
        {
          "output_type": "display_data",
          "data": {
            "text/plain": [
              "<Figure size 640x480 with 1 Axes>"
            ],
            "image/png": "[encoded data removed]"
          },
          "metadata": {}
        }
      ]
    },
    {
      "cell_type": "markdown",
      "source": [
        "### 5. Existem algumas linhas que têm valores corretos em “Quantity” e “Price per Unit” mas não em “Total Spent”. Para essas colunas, calcule o valor total e adicione caso esteja errado."
      ],
      "metadata": {
        "id": "vN9rP1hnuiXk"
      }
    },
    {
      "cell_type": "code",
      "source": [
        "df['Total Correct'] = df['Quantity'] * df['Price Per Unit']"
      ],
      "metadata": {
        "id": "yZtkdYs2uGZJ"
      },
      "execution_count": 16,
      "outputs": []
    },
    {
      "cell_type": "code",
      "source": [
        "mask = df['Total Spent'].round(2) != df['Total Correct'].round(2)\n",
        "df_incorretos = df[mask]"
      ],
      "metadata": {
        "id": "JvB6dH3FwaVW"
      },
      "execution_count": 17,
      "outputs": []
    },
    {
      "cell_type": "code",
      "source": [
        "df.loc[mask, 'Total Spent'] = df.loc[mask, 'Total Correct']"
      ],
      "metadata": {
        "id": "Y3hedkHHwc_C"
      },
      "execution_count": 18,
      "outputs": []
    },
    {
      "cell_type": "markdown",
      "source": [
        "### 6. Se as colunas “Quantity” e “Price per Unit” tiverem valores errados ou ausentes, troque os pelos valores de média, mediana ou moda e depois calcule o “Total Spent”."
      ],
      "metadata": {
        "id": "VKGBqKKvyQf6"
      }
    },
    {
      "cell_type": "code",
      "source": [
        "df['Quantity'] = df['Quantity'].fillna(df['Quantity'].mean())\n",
        "df['Price Per Unit'] = df['Price Per Unit'].fillna(df['Price Per Unit'].mean())"
      ],
      "metadata": {
        "id": "iXuMBDh1yTMZ"
      },
      "execution_count": 21,
      "outputs": []
    },
    {
      "cell_type": "code",
      "source": [
        "df['Total Spent'] = df['Quantity'] * df['Price Per Unit']"
      ],
      "metadata": {
        "id": "B6C0anHUy5x9"
      },
      "execution_count": 23,
      "outputs": []
    },
    {
      "cell_type": "markdown",
      "source": [
        "### 7. Agora que essas colunas só devem ter valores numéricos, converta elas de object para number"
      ],
      "metadata": {
        "id": "a-LVIlFp01nP"
      }
    },
    {
      "cell_type": "code",
      "source": [
        "df['Quantity'] = pd.to_numeric(df['Quantity'], errors='coerce')\n",
        "df['Price Per Unit'] = pd.to_numeric(df['Price Per Unit'], errors='coerce')\n",
        "df['Total Spent'] = pd.to_numeric(df['Total Spent'], errors='coerce')"
      ],
      "metadata": {
        "id": "Deyc7ega03QW"
      },
      "execution_count": 25,
      "outputs": []
    },
    {
      "cell_type": "markdown",
      "source": [
        "### 8. Tente identificar nas colunas numéricas outliers. Use gráficos para isso"
      ],
      "metadata": {
        "id": "wQAb_L1S8BNx"
      }
    },
    {
      "cell_type": "code",
      "source": [
        "df.plot.box(y='Total Spent', color='red')"
      ],
      "metadata": {
        "colab": {
          "base_uri": "https://localhost:8080/",
          "height": 447
        },
        "id": "fhVR3yxy8Jhu",
        "outputId": "3c2a7552-83be-4a0d-eee8-83b3299fde00"
      },
      "execution_count": 29,
      "outputs": [
        {
          "output_type": "execute_result",
          "data": {
            "text/plain": [
              "<Axes: >"
            ]
          },
          "metadata": {},
          "execution_count": 29
        },
        {
          "output_type": "display_data",
          "data": {
            "text/plain": [
              "<Figure size 640x480 with 1 Axes>"
            ],
            "image/png": "[encoded data removed]"
          },
          "metadata": {}
        }
      ]
    },
    {
      "cell_type": "markdown",
      "source": [
        "O boxplot acima representa a distribuição dos valores da variável `Total Spent`.\n",
        "É possível observar a presença de outliers, representados pelos pontos fora dos limites superiores da caixa.\n",
        "Esses valores estão significativamente acima da média, indicando que alguns clientes gastaram muito mais do que a maioria."
      ],
      "metadata": {
        "id": "ZYcEZJ2P8PPN"
      }
    },
    {
      "cell_type": "code",
      "source": [
        "df.plot.box(y='Quantity', color='red')"
      ],
      "metadata": {
        "colab": {
          "base_uri": "https://localhost:8080/",
          "height": 447
        },
        "id": "raz3NLqO8Qql",
        "outputId": "d238967d-1af6-42d2-8f5b-654e88ed0a76"
      },
      "execution_count": 30,
      "outputs": [
        {
          "output_type": "execute_result",
          "data": {
            "text/plain": [
              "<Axes: >"
            ]
          },
          "metadata": {},
          "execution_count": 30
        },
        {
          "output_type": "display_data",
          "data": {
            "text/plain": [
              "<Figure size 640x480 with 1 Axes>"
            ],
            "image/png": "[encoded data removed]"
          },
          "metadata": {}
        }
      ]
    },
    {
      "cell_type": "markdown",
      "source": [
        "O boxplot acima representa a distribuição dos valores da variável `Quantity`. É possível verificar que não há outliers."
      ],
      "metadata": {
        "id": "wZAfVKQk8a1s"
      }
    },
    {
      "cell_type": "code",
      "source": [
        "df.plot.box(y='Price Per Unit', color='red')"
      ],
      "metadata": {
        "colab": {
          "base_uri": "https://localhost:8080/",
          "height": 447
        },
        "id": "WTuAzZbb8bwU",
        "outputId": "b9724e48-03a8-4cd0-8bf2-620d8858acab"
      },
      "execution_count": 31,
      "outputs": [
        {
          "output_type": "execute_result",
          "data": {
            "text/plain": [
              "<Axes: >"
            ]
          },
          "metadata": {},
          "execution_count": 31
        },
        {
          "output_type": "display_data",
          "data": {
            "text/plain": [
              "<Figure size 640x480 with 1 Axes>"
            ],
            "image/png": "[encoded data removed]"
          },
          "metadata": {}
        }
      ]
    },
    {
      "cell_type": "markdown",
      "source": [
        "O boxplot acima representa a distribuição dos valores da variável `Price Per Unit`. É possível verificar que não há outliers."
      ],
      "metadata": {
        "id": "EzdE5nVA8ksx"
      }
    },
    {
      "cell_type": "markdown",
      "source": [
        "### 9. O DF tem três variáveis categóricas, como “Item”, “Payment Method” e “Location” têm valores nulos com diferentes elementos, como: “ERROR”, NaN ou “UNKNOWN”, padronize esses valores nulos para facilitar o tratamento."
      ],
      "metadata": {
        "id": "6qC42O1E8qjU"
      }
    },
    {
      "cell_type": "code",
      "source": [
        "import numpy as np"
      ],
      "metadata": {
        "id": "CvR9yH3e8uoq"
      },
      "execution_count": 32,
      "outputs": []
    },
    {
      "cell_type": "code",
      "source": [
        "df.replace(['ERROR', 'UNKNOWN'], np.nan, inplace=True)"
      ],
      "metadata": {
        "id": "Nlx8W0Xh_G6t"
      },
      "execution_count": 34,
      "outputs": []
    },
    {
      "cell_type": "markdown",
      "source": [
        "### 10. O DF tem três variáveis categóricas, como “Item”, “Payment Method” e “Location”. Faça a conversão delas em variáveis numéricas usando qualquer método de encoding. (dica: todos os valores nulos devem representar apenas uma categoria)."
      ],
      "metadata": {
        "id": "9J8NckkK_Y5x"
      }
    },
    {
      "cell_type": "code",
      "source": [
        "df['Item'] = pd.to_numeric(df['Item'], errors='coerce')\n",
        "df['Payment Method'] = pd.to_numeric(df['Payment Method'], errors='coerce')\n",
        "df['Location'] = pd.to_numeric(df['Location'], errors='coerce')"
      ],
      "metadata": {
        "id": "Dz-ceYm6_lzG"
      },
      "execution_count": 35,
      "outputs": []
    },
    {
      "cell_type": "markdown",
      "source": [
        "### 11. Agora que as colunas: “Item”, “Payment Method”, “Location”, “Quantity”, “Price per Unit” e “Total Spent” são numéricas, normalize elas."
      ],
      "metadata": {
        "id": "aWKoLnexADCJ"
      }
    },
    {
      "cell_type": "code",
      "source": [
        "from sklearn.preprocessing import MinMaxScaler\n",
        "colunas_numericas = ['Quantity', 'Price Per Unit', 'Total Spent']\n",
        "scaler = MinMaxScaler()\n",
        "df[colunas_numericas] = scaler.fit_transform(df[colunas_numericas])"
      ],
      "metadata": {
        "id": "cONdNfEQAFYH"
      },
      "execution_count": 38,
      "outputs": []
    }
  ]
}